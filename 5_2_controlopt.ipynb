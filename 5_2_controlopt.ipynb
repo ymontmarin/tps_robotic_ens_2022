{
 "cells": [
  {
   "cell_type": "markdown",
   "metadata": {},
   "source": [
    "# Reaching multiple targets with a manipulator\n",
    "The objective of this exercise is to reach multiple targets with a manipulator.\n",
    "\n",
    "We provide a basic example for reaching one point, and you have to modify it for sequence of multiple targets. Below it is the basic example, there we'll guide you to the final result.\n"
   ]
  },
  {
   "cell_type": "markdown",
   "metadata": {},
   "source": [
    "## Set up"
   ]
  },
  {
   "cell_type": "code",
   "execution_count": 1,
   "metadata": {},
   "outputs": [
    {
     "name": "stdout",
     "output_type": "stream",
     "text": [
      "NB: as for all the tutorials, a magic command %do_not_load is introduced to hide the solutions to some questions. Change it for %load if you want to see (and execute) the solution.\n"
     ]
    }
   ],
   "source": [
    "import magic_donotload"
   ]
  },
  {
   "cell_type": "markdown",
   "metadata": {},
   "source": [
    "We will need crocoddyl as in the previous notebook, with the model of the arm of the humanoid robot Talos, a 7-dof arm. It can be found in example robot data."
   ]
  },
  {
   "cell_type": "code",
   "execution_count": 2,
   "metadata": {},
   "outputs": [],
   "source": [
    "import crocoddyl\n",
    "import pinocchio\n",
    "import numpy as np\n",
    "import example_robot_data as robex"
   ]
  },
  {
   "cell_type": "markdown",
   "metadata": {},
   "source": [
    "## The optimal-control program"
   ]
  },
  {
   "cell_type": "markdown",
   "metadata": {},
   "source": [
    "First, let's load the Pinocchio model for the Talos arm."
   ]
  },
  {
   "cell_type": "code",
   "execution_count": 3,
   "metadata": {},
   "outputs": [],
   "source": [
    "robot = robex.load('talos_arm')\n",
    "robot_model = robot.model"
   ]
  },
  {
   "cell_type": "markdown",
   "metadata": {},
   "source": [
    "Set robot model."
   ]
  },
  {
   "cell_type": "code",
   "execution_count": 4,
   "metadata": {},
   "outputs": [],
   "source": [
    "robot_model.armature =np.array([1.0, 1.0, 1.0, 1.0, 1.0, 1.0, 0.])*5  # It is a regularization of the mass matric M' = M + lamb I\n",
    "robot_model.q0 = np.array([3.5,2,2,0,0,0,0])\n",
    "robot_model.x0 = np.concatenate([robot_model.q0, np.zeros(robot_model.nv)])\n",
    "robot_model.gravity *= 0"
   ]
  },
  {
   "cell_type": "markdown",
   "metadata": {},
   "source": [
    "Let's add a viewer to display the model.\n"
   ]
  },
  {
   "cell_type": "code",
   "execution_count": 5,
   "metadata": {},
   "outputs": [
    {
     "name": "stdout",
     "output_type": "stream",
     "text": [
      "You can open the visualizer by visiting the following URL:\n",
      "http://127.0.0.1:7009/static/\n"
     ]
    },
    {
     "data": {
      "text/html": [
       "\n",
       "            <div style=\"height: 400px; width: 100%; overflow-x: auto; overflow-y: hidden; resize: both\">\n",
       "            <iframe src=\"http://127.0.0.1:7009/static/\" style=\"width: 100%; height: 100%; border: none\"></iframe>\n",
       "            </div>\n",
       "            "
      ],
      "text/plain": [
       "<IPython.core.display.HTML object>"
      ]
     },
     "execution_count": 5,
     "metadata": {},
     "output_type": "execute_result"
    }
   ],
   "source": [
    "from utils.meshcat_viewer_wrapper import MeshcatVisualizer\n",
    "viz = MeshcatVisualizer(robot)\n",
    "viz.display(robot_model.q0)\n",
    "viz.viewer.jupyter_cell()"
   ]
  },
  {
   "cell_type": "code",
   "execution_count": 6,
   "metadata": {},
   "outputs": [],
   "source": [
    "viz.addBox('world/goal',[.1,.1,.1],[0,1,0,1])\n",
    "viz.applyConfiguration('world/goal',[.2,.5,.5,0,0,0,1])"
   ]
  },
  {
   "cell_type": "markdown",
   "metadata": {},
   "source": [
    "Configure the task."
   ]
  },
  {
   "cell_type": "code",
   "execution_count": 7,
   "metadata": {},
   "outputs": [],
   "source": [
    "FRAME_TIP = robot_model.getFrameId(\"gripper_left_fingertip_3_link\")  # Wrapper around pinocchio\n",
    "goal = np.array([.2,.5,.5])"
   ]
  },
  {
   "cell_type": "markdown",
   "metadata": {},
   "source": [
    "Create a cost model per the running and terminal action model."
   ]
  },
  {
   "cell_type": "code",
   "execution_count": 8,
   "metadata": {},
   "outputs": [],
   "source": [
    "state = crocoddyl.StateMultibody(robot_model)\n",
    "# The state object containt info about the configspace, the constraint, the velocity, the kinematic values and everything\n",
    "\n",
    "# State is quite abstract, to have a real solvable OCP we need to define somme cost associated to this model\n",
    "# We also need to decide the actual dynamic we will follow (called actuation), it means a solver that will be ourf(x,u) AND a way to descretize it\n",
    "\n",
    "runningCostModel = crocoddyl.CostModelSum(state)  # The state will remain the same during running \n",
    "terminalCostModel = crocoddyl.CostModelSum(state)  # And also for final state"
   ]
  },
  {
   "cell_type": "markdown",
   "metadata": {},
   "source": [
    "Note that we need to include a cost model (i.e. set of cost functions) in order to fully define the action model for our optimal control problem.\n",
    "For this particular example, we formulate three running-cost functions: goal-tracking cost, state and control regularization; and a terminal cost: goal cost. First, let's create the common cost functions."
   ]
  },
  {
   "cell_type": "code",
   "execution_count": 9,
   "metadata": {},
   "outputs": [
    {
     "name": "stderr",
     "output_type": "stream",
     "text": [
      "Deprecated: Do not use FramePlacement.\n",
      "Deprecated: Do not use FrameTranslation.\n",
      "Deprecated: Do not use FrameTranslation.\n",
      "Deprecated: Do not use FrameTranslation.\n",
      "Deprecated CostModelFrameTranslation: Use ResidualModelFrameTranslation with CostModelResidual\n",
      "Deprecated: Do not use FramePlacement.\n",
      "Deprecated: Do not use FramePlacement.\n",
      "Deprecated CostModelFramePlacement: Use ResidualModelFramePlacement with CostModelResidual\n",
      "Deprecated CostModelState: Use ResidualModelState with CostModelResidual\n",
      "Deprecated CostModelState: Use ResidualModelState with CostModelResidual\n",
      "Deprecated CostModelControl: Use ResidualModelControl with CostModelResidual\n"
     ]
    }
   ],
   "source": [
    "### Cost for reaching the target\n",
    "Mref = crocoddyl.FramePlacement(FRAME_TIP,pinocchio.SE3(np.eye(3), goal))\n",
    "pref = crocoddyl.FrameTranslation(FRAME_TIP,goal)\n",
    "goalTrackingCost = crocoddyl.CostModelFrameTranslation(state, pref)\n",
    "goalTrackingCost = crocoddyl.CostModelFramePlacement(state, Mref)\n",
    "\n",
    "### Cost for regularizing the state about robot_model.x0, running AND terminal\n",
    "weights=crocoddyl.ActivationModelWeightedQuad(np.array([1,1,1,1,1,1,1, 1,1,1,1,2,2,2.]))\n",
    "xRegCost = crocoddyl.CostModelState(state,weights,robot_model.x0)\n",
    "weightsT=crocoddyl.ActivationModelWeightedQuad(np.array([.01,.01,.01,.01,.01,.01,.01, 1,1,1,1,2,2,2.]))\n",
    "xRegCostT = crocoddyl.CostModelState(state,weightsT,robot_model.x0)\n",
    "\n",
    "### Cost for keeping the control low: around zeros with uniform weights\n",
    "uRegCost = crocoddyl.CostModelControl(state)\n"
   ]
  },
  {
   "cell_type": "markdown",
   "metadata": {},
   "source": [
    "Then let's added the running and terminal cost functions and the constant weight for each whole cost"
   ]
  },
  {
   "cell_type": "code",
   "execution_count": 10,
   "metadata": {},
   "outputs": [],
   "source": [
    "runningCostModel.addCost(\"gripperPose\", goalTrackingCost, .001)  # addCost is a method of CostModelSum that take another CostModel\n",
    "runningCostModel.addCost(\"xReg\", xRegCost, 1e-3)  # We also weight the sum of cost\n",
    "runningCostModel.addCost(\"uReg\", uRegCost, 1e-6)\n",
    "terminalCostModel.addCost(\"gripperPose\", goalTrackingCost, 10)\n",
    "terminalCostModel.addCost(\"xReg\", xRegCostT, .01)"
   ]
  },
  {
   "cell_type": "markdown",
   "metadata": {},
   "source": [
    "Next, we need to create an action model for running and terminal knots. The\n",
    "forward dynamics (computed using ABA) are implemented inside DifferentialActionModelFullyActuated."
   ]
  },
  {
   "cell_type": "code",
   "execution_count": 11,
   "metadata": {},
   "outputs": [],
   "source": [
    "actuationModel = crocoddyl.ActuationModelFull(state)\n",
    "dt = 1e-2\n",
    "# A step in the running step\n",
    "## We use the freefall forward dynamic as dotx = f(x,u) it could be a contact one (as in prev TP) and so on\n",
    "### It is the differential model chosen around the state\n",
    "## We precise the duration of the step dt\n",
    "## We precise the integration scheme we use \n",
    "### It is the integrated model chosen around the differential model\n",
    "## We precise which cost is used during this step\n",
    "runningModel = crocoddyl.IntegratedActionModelEuler(\n",
    "    crocoddyl.DifferentialActionModelFreeFwdDynamics(state, actuationModel, runningCostModel), dt)\n",
    "runningModel.differential.armature = robot_model.armature\n",
    "\n",
    "\n",
    "terminalModel = crocoddyl.IntegratedActionModelEuler(\n",
    "    crocoddyl.DifferentialActionModelFreeFwdDynamics(state, actuationModel, terminalCostModel), 0.)\n",
    "terminalModel.differential.armature = robot_model.armature"
   ]
  },
  {
   "cell_type": "markdown",
   "metadata": {},
   "source": [
    "For this optimal control problem, we define 250 knots (or running action\n",
    "models) plus a terminal knot"
   ]
  },
  {
   "cell_type": "code",
   "execution_count": 12,
   "metadata": {},
   "outputs": [],
   "source": [
    "T = 100\n",
    "problem = crocoddyl.ShootingProblem(robot_model.x0, [runningModel] * T, terminalModel)\n",
    "# We chain all the discrete step with their cost from an initial value even the final one that have the terminal costs\n",
    "# We just repeat the running step for a number of time and add the terminal node\n",
    "## This problem object contain discretized dynamic and cost on horizon T for a state (aka a system)\n",
    "### Alternative could have be variable actuaction type, e.g. to force sequence of contact\n",
    "### other integration...\n",
    "### Other type of problem like multiple shooting, colocation...\n",
    "# Problem is an OCP problem formulation !"
   ]
  },
  {
   "cell_type": "markdown",
   "metadata": {},
   "source": [
    "We finalize the set up by creating the DDP solver for this optimal control problem."
   ]
  },
  {
   "cell_type": "code",
   "execution_count": 13,
   "metadata": {},
   "outputs": [],
   "source": [
    "# We wrap the problem into a solver (an algorithm method to solve OCP)\n",
    "ddp = crocoddyl.SolverDDP(problem)"
   ]
  },
  {
   "cell_type": "markdown",
   "metadata": {},
   "source": [
    "Callbacks can be added, for example to at verbose output when the solver runs, or logs the data of the descent algorithm."
   ]
  },
  {
   "cell_type": "code",
   "execution_count": 14,
   "metadata": {},
   "outputs": [],
   "source": [
    "ddp.setCallbacks([\n",
    "    crocoddyl.CallbackLogger(),\n",
    "    crocoddyl.CallbackVerbose(),\n",
    "])"
   ]
  },
  {
   "cell_type": "markdown",
   "metadata": {},
   "source": [
    "The DDP algorithm is run by the solver with:"
   ]
  },
  {
   "cell_type": "code",
   "execution_count": 15,
   "metadata": {},
   "outputs": [
    {
     "name": "stdout",
     "output_type": "stream",
     "text": [
      "iter     cost         stop         grad         xreg         ureg       step    ||ffeas||\n",
      "   0  5.54478e+00  3.35430e-06  1.03896e+02  1.00000e-09  1.00000e-09  1.0000  3.50000e+00\n",
      "   1  4.79067e+00  2.20983e-02  1.08060e+01  1.00000e-09  1.00000e-09  0.2500  0.00000e+00\n",
      "   2  4.60692e+00  9.86780e-03  7.21077e+00  1.00000e-09  1.00000e-09  0.0625  0.00000e+00\n",
      "   3  4.54659e+00  8.30666e-03  5.69635e+00  1.00000e-09  1.00000e-09  0.0312  0.00000e+00\n",
      "   4  4.36230e+00  6.31062e-03  4.13650e+00  1.00000e-09  1.00000e-09  0.5000  0.00000e+00\n",
      "   5  3.68938e+00  8.35284e-02  6.16314e+00  1.00000e-09  1.00000e-09  0.1250  0.00000e+00\n",
      "   6  2.53797e+00  1.94908e-02  4.67503e+00  1.00000e-09  1.00000e-09  0.5000  0.00000e+00\n",
      "   7  2.30479e+00  1.70740e-03  4.79488e+00  1.00000e-09  1.00000e-09  0.2500  0.00000e+00\n",
      "   8  1.90553e+00  1.46694e-05  4.23573e+00  1.00000e-09  1.00000e-09  0.1250  0.00000e+00\n",
      "   9  1.41523e+00  2.18798e-04  3.60990e+00  1.00000e-09  1.00000e-09  0.5000  0.00000e+00\n",
      "iter     cost         stop         grad         xreg         ureg       step    ||ffeas||\n",
      "  10  8.86476e-01  1.45453e-03  2.02518e+00  1.00000e-09  1.00000e-09  1.0000  0.00000e+00\n",
      "  11  8.78884e-01  5.87535e-05  1.29266e+00  1.00000e-09  1.00000e-09  0.0156  0.00000e+00\n",
      "  12  8.70787e-01  5.91014e-05  1.10766e+00  1.00000e-09  1.00000e-09  0.0156  0.00000e+00\n",
      "  13  7.98420e-01  6.18097e-05  9.77951e-01  1.00000e-09  1.00000e-09  1.0000  0.00000e+00\n",
      "  14  7.72770e-01  1.43754e-03  8.91533e-01  1.00000e-09  1.00000e-09  0.2500  0.00000e+00\n",
      "  15  6.86570e-01  4.65290e-04  8.11975e-01  1.00000e-09  1.00000e-09  0.2500  0.00000e+00\n",
      "  16  6.46024e-01  2.77869e-04  6.34227e-01  1.00000e-09  1.00000e-09  0.2500  0.00000e+00\n",
      "  17  6.03879e-01  2.74452e-04  5.62866e-01  1.00000e-09  1.00000e-09  0.2500  0.00000e+00\n",
      "  18  5.45950e-01  1.72723e-04  4.68809e-01  1.00000e-09  1.00000e-09  0.2500  0.00000e+00\n",
      "  19  5.11846e-01  1.55286e-04  3.60946e-01  1.00000e-09  1.00000e-09  0.2500  0.00000e+00\n",
      "iter     cost         stop         grad         xreg         ureg       step    ||ffeas||\n",
      "  20  5.00798e-01  9.52955e-05  2.92498e-01  1.00000e-09  1.00000e-09  0.2500  0.00000e+00\n",
      "  21  4.93710e-01  9.27464e-05  2.76679e-01  1.00000e-09  1.00000e-09  0.2500  0.00000e+00\n",
      "  22  4.78703e-01  6.36843e-05  2.58802e-01  1.00000e-09  1.00000e-09  0.1250  0.00000e+00\n",
      "  23  3.89692e-01  6.02502e-05  2.20670e-01  1.00000e-09  1.00000e-09  1.0000  0.00000e+00\n",
      "  24  3.88044e-01  5.70122e-07  1.99168e-01  1.00000e-09  1.00000e-09  0.0156  0.00000e+00\n",
      "  25  3.87599e-01  4.47598e-07  1.33156e-01  1.00000e-09  1.00000e-09  0.0312  0.00000e+00\n",
      "  26  3.86547e-01  2.25501e-07  6.69297e-02  1.00000e-09  1.00000e-09  0.0312  0.00000e+00\n",
      "  27  3.85794e-01  1.67671e-07  4.76862e-02  1.00000e-09  1.00000e-09  0.1250  0.00000e+00\n",
      "  28  3.80018e-01  2.94970e-08  3.92326e-02  1.00000e-09  1.00000e-09  0.5000  0.00000e+00\n",
      "  29  3.79335e-01  2.52830e-08  5.95226e-02  1.00000e-09  1.00000e-09  0.0312  0.00000e+00\n",
      "iter     cost         stop         grad         xreg         ureg       step    ||ffeas||\n",
      "  30  3.78518e-01  4.92680e-08  3.58989e-02  1.00000e-09  1.00000e-09  0.0625  0.00000e+00\n",
      "  31  3.76755e-01  8.19972e-08  2.43991e-02  1.00000e-09  1.00000e-09  1.0000  0.00000e+00\n",
      "  32  3.75692e-01  2.20205e-07  6.64990e-02  1.00000e-09  1.00000e-09  0.0312  0.00000e+00\n",
      "  33  3.75231e-01  1.14013e-07  4.44443e-02  1.00000e-09  1.00000e-09  0.0625  0.00000e+00\n",
      "  34  3.74762e-01  3.62707e-08  2.41945e-02  1.00000e-09  1.00000e-09  0.1250  0.00000e+00\n",
      "  35  3.67783e-01  3.51550e-08  1.66870e-02  1.00000e-09  1.00000e-09  1.0000  0.00000e+00\n",
      "  36  3.67333e-01  1.49876e-07  1.60976e-02  1.00000e-09  1.00000e-09  0.0625  0.00000e+00\n",
      "  37  3.67206e-01  1.05429e-07  3.98194e-03  1.00000e-09  1.00000e-09  0.1250  0.00000e+00\n",
      "  38  3.67000e-01  8.50940e-08  1.89664e-03  1.00000e-09  1.00000e-09  0.5000  0.00000e+00\n",
      "  39  3.66825e-01  2.93284e-08  5.38216e-03  1.00000e-09  1.00000e-09  0.0625  0.00000e+00\n",
      "iter     cost         stop         grad         xreg         ureg       step    ||ffeas||\n",
      "  40  3.66732e-01  2.49840e-08  1.50007e-03  1.00000e-09  1.00000e-09  0.1250  0.00000e+00\n",
      "  41  3.66561e-01  1.97941e-08  8.26728e-04  1.00000e-09  1.00000e-09  0.5000  0.00000e+00\n",
      "  42  3.66520e-01  6.30553e-09  1.78346e-03  1.00000e-09  1.00000e-09  0.1250  0.00000e+00\n",
      "  43  3.66491e-01  5.42356e-09  5.07388e-04  1.00000e-09  1.00000e-09  0.2500  0.00000e+00\n",
      "  44  3.66459e-01  3.63044e-09  7.94745e-04  1.00000e-09  1.00000e-09  0.1250  0.00000e+00\n",
      "  45  3.66426e-01  2.96855e-09  2.91787e-04  1.00000e-09  1.00000e-09  0.2500  0.00000e+00\n",
      "  46  3.66406e-01  1.86959e-09  3.73838e-04  1.00000e-09  1.00000e-09  0.1250  0.00000e+00\n",
      "  47  3.66399e-01  1.48794e-09  1.52700e-04  1.00000e-09  1.00000e-09  0.5000  0.00000e+00\n",
      "  48  3.66377e-01  5.36063e-10  7.25017e-04  1.00000e-09  1.00000e-09  0.1250  0.00000e+00\n"
     ]
    },
    {
     "data": {
      "text/plain": [
       "True"
      ]
     },
     "execution_count": 15,
     "metadata": {},
     "output_type": "execute_result"
    }
   ],
   "source": [
    "ddp.solve([],[],1000)  # xs_init,us_init,maxiter"
   ]
  },
  {
   "cell_type": "markdown",
   "metadata": {},
   "source": [
    "You can now look at the results, either in Gepetto-viewer by running the trajectory, or by plotting it."
   ]
  },
  {
   "cell_type": "code",
   "execution_count": 16,
   "metadata": {},
   "outputs": [],
   "source": [
    "import tp5.croco_utils as crocutils\n",
    "crocutils.displayTrajectory(viz,ddp.xs,ddp.problem.runningModels[0].dt,12)"
   ]
  },
  {
   "cell_type": "markdown",
   "metadata": {},
   "source": [
    "And plotting..."
   ]
  },
  {
   "cell_type": "code",
   "execution_count": 17,
   "metadata": {},
   "outputs": [],
   "source": [
    "%matplotlib inline"
   ]
  },
  {
   "cell_type": "code",
   "execution_count": 18,
   "metadata": {},
   "outputs": [
    {
     "data": {
      "image/png": "[encoded data removed]",
      "text/plain": [
       "<Figure size 640x480 with 2 Axes>"
      ]
     },
     "metadata": {},
     "output_type": "display_data"
    }
   ],
   "source": [
    "log = ddp.getCallbacks()[0]\n",
    "crocoddyl.plotOCSolution(log.xs, log.us, figIndex=1)"
   ]
  },
  {
   "cell_type": "markdown",
   "metadata": {},
   "source": [
    "Some elements describing the solver convergence can also been plotted."
   ]
  },
  {
   "cell_type": "code",
   "execution_count": 19,
   "metadata": {},
   "outputs": [
    {
     "data": {
      "image/png": "[encoded data removed]",
      "text/plain": [
       "<Figure size 640x800 with 5 Axes>"
      ]
     },
     "metadata": {},
     "output_type": "display_data"
    }
   ],
   "source": [
    "crocoddyl.plotConvergence(log.costs, log.u_regs, log.x_regs, log.grads, log.stops, log.steps, figIndex=2)"
   ]
  },
  {
   "cell_type": "markdown",
   "metadata": {},
   "source": [
    "## I. DifferentialActionModel for Pinocchio ABA\n",
    "ABA is a Rigid Body Algorithm optimized to calculate the acceleration in configuration space given the torque.\n",
    "\n",
    "This scenario uses an action model that computes 2nd order differential dynamics with Pinocchio. Note that it can accept several cost models. This action model is tailored for robot applications, and at the same time, it's modular since:\n",
    " - you can modify the robot dynamics by changing Pinocchio model, and\n",
    " - you can formulate any cost function by simply adding running and/or terminal costs.\n",
    "\n",
    "## II. Cost models\n",
    "\n",
    "A cost model computes a scalar cost value and its gradient and Hessian. All the models implemented are computing a cost residual and are computing the Hessian with the Gauss approximation.\n",
    "\n",
    "We implemented reusable cost models for controlling \n",
    " - a frame placement (translation or velocity),\n",
    " - the center of mass position, and \n",
    " - state  and control spaces.\n",
    "\n",
    "In the example above, we used the CostModelFrameTranslation which defines a 3d position task, and the state and control regularizers."
   ]
  },
  {
   "cell_type": "markdown",
   "metadata": {},
   "source": [
    "All functions are defined by their *model*, which is const, i.e none of its fields is modified by the *calc* and *calcDiff* calls. Temporary buffers are defined in a companion *data*."
   ]
  },
  {
   "cell_type": "code",
   "execution_count": 20,
   "metadata": {},
   "outputs": [],
   "source": [
    "dataCollector = crocoddyl.DataCollectorMultibody(robot.data)\n",
    "trackData = goalTrackingCost.createData(dataCollector)"
   ]
  },
  {
   "cell_type": "markdown",
   "metadata": {},
   "source": [
    "### II.a Frame position cost\n",
    "\n",
    "You define a frame ID and the reference position as a 3D array. The cost is the distance between the frame and the target. This cost depends on $\\mathbf{x}$ (specifically the configuration $\\mathbf{q}$). You can double check the 0s in its gradient."
   ]
  },
  {
   "cell_type": "code",
   "execution_count": 21,
   "metadata": {},
   "outputs": [
    {
     "name": "stdout",
     "output_type": "stream",
     "text": [
      "Lx =  [ 1.29790498  1.97448753 -0.90634148 -1.6796678  -1.39285419 -0.99949862\n",
      "  0.          0.          0.          0.          0.          0.\n",
      "  0.          0.        ]\n",
      "Lu =  [0. 0. 0. 0. 0. 0. 0.]\n"
     ]
    }
   ],
   "source": [
    "x = ddp.xs[1].copy()\n",
    "q = x[:state.nq]\n",
    "pinocchio.updateFramePlacements(robot.model, robot.data)\n",
    "pinocchio.computeJointJacobians(robot.model, robot.data, q)\n",
    "goalTrackingCost.calc(trackData, x)\n",
    "goalTrackingCost.calcDiff(trackData, x)\n",
    "print('Lx = ',trackData.Lx) # For gradient\n",
    "print('Lu = ',trackData.Lu)"
   ]
  },
  {
   "cell_type": "markdown",
   "metadata": {},
   "source": [
    "### II.b State cost\n",
    "In this part of the tutorial you must define a State model. It defines \n",
    " - the dimension of the state and its tangent, and\n",
    " - the exponential/integrate and difference/log operators.\n",
    "The operators can described using Pinocchio functions. And the exercite consists on adding them into your State class. Please note crocoddyl has abstract functions for this.\n",
    "\n",
    "The state cost uses a reference in state space (State.zero() by default). The cost is the distance, computed with state.difference between the current state and the reference. Hence, with this cost, we regularize both position and velocity.\n",
    "\n",
    "### II.c Control cost\n",
    "\n",
    "The control cost uses a control reference as in the state cost. The cost is the distance the current control and the reference. Hence the cost regularizes torque commands."
   ]
  },
  {
   "cell_type": "markdown",
   "metadata": {},
   "source": [
    "### II.d Add cost models to the differential action model\n",
    "Each time we want to include a new cost function, we use addCost function inside our DAM. In this function you're also able its weight."
   ]
  },
  {
   "cell_type": "markdown",
   "metadata": {},
   "source": [
    "## III. Create the problem with integrated action model\n",
    "Differential action models describe cost and dynamics in continuous-time, however our optimal control solvers work in discrete-time. We have created the integrated action model in order to deal with this.\n",
    "\n",
    "In the previous code, we have used an abstract class that uses simpletic Euler rules. In the cartpole exercise you have learnt how to use integrated action models for your problem."
   ]
  },
  {
   "cell_type": "markdown",
   "metadata": {},
   "source": [
    "## IV. Callbacks\n",
    "\n",
    "Callback functions are needed for analysing and debugging the performance of the solver for your specific problem.\n",
    "For problems defined with Pinocchio, you can display the robot trajectory per each iterate by including CallbackDisplay. With this callback, you can display robot motions with different rates. Additionally, CallbackVerbose prints a message that allows us to understand the behaviour of the solver.\n",
    "\n",
    "Generally speaking, an user is able to describe any callback function. This function will be run once per iterate and it has access to all data."
   ]
  },
  {
   "cell_type": "markdown",
   "metadata": {},
   "source": [
    "## VI. Modifying the example\n",
    "\n",
    "Start by defining several targets (let's say 4 targets, all at x=0.4, and at y and z being either 0 or 0.4), and display then in the viewer.\n"
   ]
  },
  {
   "cell_type": "code",
   "execution_count": 22,
   "metadata": {},
   "outputs": [],
   "source": [
    "viz.delete('world/goal')\n",
    "goals = np.array([\n",
    "    [.4, 0., 0.4],\n",
    "    [.4, 0., 0.],\n",
    "    [.4, 0.4, 0.4],\n",
    "    [.4, 0.4, 0.],\n",
    "])\n",
    "\n",
    "for i, g in enumerate(goals):\n",
    "    viz.addBox(f'world/goal{i}',[.1,.1,.1],[0,1,0,1])\n",
    "    viz.applyConfiguration(f'world/goal{i}',list(g) + [0,0,0,1])"
   ]
  },
  {
   "cell_type": "markdown",
   "metadata": {},
   "source": [
    "The shooting problem will be composed of 4 sequences of action models. Each sequence consists on T shooting \"running\" nodes and 1 terminal node. The running nodes mostly have regularization terms, while the terminal nodes have a strong cost toward the respective target.\n",
    "\n",
    "[ R1,R1,R1 ... R1,T1, R2,R2 .... R2, T2, R3 ... R3, T3, R4 ... R4 ] , T4\n",
    "\n",
    "First create 4 running models and 4 terminal models cost."
   ]
  },
  {
   "cell_type": "code",
   "execution_count": null,
   "metadata": {},
   "outputs": [],
   "source": []
  },
  {
   "cell_type": "markdown",
   "metadata": {},
   "source": [
    "Then you need to add a position cost, and state and control regularization to each running action model. Please  note that for terminal action model is only needed the position cost. Additionally, in the running models, the position cost should be low, and it should be high in the terminal models.\n",
    "Be carefull ! Intermediate terminal cost should not have $dt=0$"
   ]
  },
  {
   "cell_type": "code",
   "execution_count": null,
   "metadata": {},
   "outputs": [],
   "source": []
  },
  {
   "cell_type": "markdown",
   "metadata": {},
   "source": [
    "Now create different shooting problem if you need to go through 1, 2, 3 or 4 positions."
   ]
  },
  {
   "cell_type": "code",
   "execution_count": null,
   "metadata": {},
   "outputs": [],
   "source": []
  },
  {
   "cell_type": "markdown",
   "metadata": {},
   "source": [
    "Create a DDP solver for this problem and run it."
   ]
  },
  {
   "cell_type": "code",
   "execution_count": 23,
   "metadata": {},
   "outputs": [
    {
     "data": {
      "text/plain": [
       "True"
      ]
     },
     "execution_count": 23,
     "metadata": {},
     "output_type": "execute_result"
    }
   ],
   "source": [
    "ddp = crocoddyl.SolverDDP(problem)\n",
    "ddp.solve()"
   ]
  },
  {
   "cell_type": "markdown",
   "metadata": {},
   "source": [
    "Well, it should not work, at least no on the first shot. The DDP solver is likely not strong enough to accept the random weights that you have selected. \n",
    "\n",
    "If it is working nicely from the first shot, display it in the viewer and go take a coffee. But you will likely have to tweak the gains to make it work.\n",
    "\n",
    "**It is suggested to first optimize only sequence 1. When you are happy with it, add sequence 2 and optimize again, etc.**\n",
    "\n",
    "OCP allows to reduce the problem to a weight tunning one. However, some research try to automate this weight tunning part."
   ]
  },
  {
   "cell_type": "markdown",
   "metadata": {},
   "source": [
    "The solution if you need it:"
   ]
  },
  {
   "cell_type": "code",
   "execution_count": 24,
   "metadata": {},
   "outputs": [
    {
     "name": "stderr",
     "output_type": "stream",
     "text": [
      "Deprecated: Do not use FrameTranslation."
     ]
    },
    {
     "data": {
      "text/plain": [
       "True"
      ]
     },
     "execution_count": 24,
     "metadata": {},
     "output_type": "execute_result"
    },
    {
     "name": "stderr",
     "output_type": "stream",
     "text": [
      "\n",
      "Deprecated: Do not use FrameTranslation.\n",
      "Deprecated: Do not use FrameTranslation.\n",
      "Deprecated CostModelFrameTranslation: Use ResidualModelFrameTranslation with CostModelResidual\n",
      "Deprecated CostModelState: Use ResidualModelState with CostModelResidual\n",
      "Deprecated CostModelState: Use ResidualModelState with CostModelResidual\n",
      "Deprecated CostModelControl: Use ResidualModelControl with CostModelResidual\n",
      "Deprecated: Do not use FrameTranslation.\n",
      "Deprecated: Do not use FrameTranslation.\n",
      "Deprecated: Do not use FrameTranslation.\n",
      "Deprecated CostModelFrameTranslation: Use ResidualModelFrameTranslation with CostModelResidual\n",
      "Deprecated CostModelState: Use ResidualModelState with CostModelResidual\n",
      "Deprecated CostModelState: Use ResidualModelState with CostModelResidual\n",
      "Deprecated CostModelControl: Use ResidualModelControl with CostModelResidual\n",
      "Deprecated: Do not use FrameTranslation.\n",
      "Deprecated: Do not use FrameTranslation.\n",
      "Deprecated: Do not use FrameTranslation.\n",
      "Deprecated CostModelFrameTranslation: Use ResidualModelFrameTranslation with CostModelResidual\n",
      "Deprecated CostModelState: Use ResidualModelState with CostModelResidual\n",
      "Deprecated CostModelState: Use ResidualModelState with CostModelResidual\n",
      "Deprecated CostModelControl: Use ResidualModelControl with CostModelResidual\n",
      "Deprecated: Do not use FrameTranslation.\n",
      "Deprecated: Do not use FrameTranslation.\n",
      "Deprecated: Do not use FrameTranslation.\n",
      "Deprecated CostModelFrameTranslation: Use ResidualModelFrameTranslation with CostModelResidual\n",
      "Deprecated CostModelState: Use ResidualModelState with CostModelResidual\n",
      "Deprecated CostModelState: Use ResidualModelState with CostModelResidual\n",
      "Deprecated CostModelControl: Use ResidualModelControl with CostModelResidual\n"
     ]
    }
   ],
   "source": [
    "# %load tp5/generated/general_ddp_4stage\n",
    "state = crocoddyl.StateMultibody(robot_model)\n",
    "# The state object containt info about the configspace, the constraint, the velocity, the kinematic values and everything\n",
    "\n",
    "# State is quite abstract, to have a real solvable OCP we need to define somme cost associated to this model\n",
    "# We also need to decide the actual dynamic we will follow (called actuation), it means a solver that will be ourf(x,u) AND a way to descretize it\n",
    "\n",
    "rcms = []\n",
    "tcms = []\n",
    "\n",
    "for i in range(4):\n",
    "    runningCostModel = crocoddyl.CostModelSum(state)  # The state will remain the same during running \n",
    "    terminalCostModel = crocoddyl.CostModelSum(state)  # And also for final state\n",
    "\n",
    "    ### Cost for reaching the target\n",
    "    pref = crocoddyl.FrameTranslation(FRAME_TIP, goals[i])\n",
    "    goalTrackingCost = crocoddyl.CostModelFrameTranslation(state, pref)\n",
    "\n",
    "    ### Cost for regularizing the state about robot_model.x0, running AND terminal\n",
    "    weights=crocoddyl.ActivationModelWeightedQuad(np.array([1,1,1,1,1,1,1, 1,1,1,1,2,2,2.]))\n",
    "    xRegCost = crocoddyl.CostModelState(state,weights,robot_model.x0)\n",
    "    weightsT=crocoddyl.ActivationModelWeightedQuad(np.array([.01,.01,.01,.01,.01,.01,.01, 1,1,1,1,2,2,2.]))\n",
    "    xRegCostT = crocoddyl.CostModelState(state,weightsT,robot_model.x0)\n",
    "\n",
    "    ### Cost for keeping the control low: around zeros with uniform weights\n",
    "    uRegCost = crocoddyl.CostModelControl(state)\n",
    "\n",
    "\n",
    "    runningCostModel.addCost(\"gripperPose\", goalTrackingCost, .001)  # addCost is a method of CostModelSum that take another CostModel\n",
    "    runningCostModel.addCost(\"xReg\", xRegCost, 1e-3)  # We also weight the sum of cost\n",
    "    runningCostModel.addCost(\"uReg\", uRegCost, 1e-6)\n",
    "    terminalCostModel.addCost(\"gripperPose\", goalTrackingCost, 10)\n",
    "    terminalCostModel.addCost(\"xReg\", xRegCostT, .01)\n",
    "    terminalCostModel.addCost(\"uReg\", xRegCostT, 1e-6)\n",
    "\n",
    "    rcms.append(runningCostModel)\n",
    "    tcms.append(terminalCostModel)\n",
    "\n",
    "\n",
    "actuationModel = crocoddyl.ActuationModelFull(state)\n",
    "dt = 1e-2\n",
    "# A step in the running step\n",
    "## We use the freefall forward dynamic as dotx = f(x,u) it could be a contact one (as in prev TP) and so on\n",
    "### It is the differential model chosen around the state\n",
    "## We precise the duration of the step dt\n",
    "## We precise the integration scheme we use \n",
    "### It is the integrated model chosen around the differential model\n",
    "## We precise which cost is used during this step\n",
    "def make_running_model(rcm):\n",
    "    runningModel = crocoddyl.IntegratedActionModelEuler(\n",
    "        crocoddyl.DifferentialActionModelFreeFwdDynamics(state, actuationModel, rcm), dt)\n",
    "    runningModel.differential.armature = robot_model.armature\n",
    "    return runningModel\n",
    "\n",
    "def make_terminal_model(tcm):\n",
    "    runningModel = crocoddyl.IntegratedActionModelEuler(\n",
    "        crocoddyl.DifferentialActionModelFreeFwdDynamics(state, actuationModel, tcm), 0.)\n",
    "    runningModel.differential.armature = robot_model.armature\n",
    "    return runningModel\n",
    "\n",
    "terminalModel = crocoddyl.IntegratedActionModelEuler(\n",
    "    crocoddyl.DifferentialActionModelFreeFwdDynamics(state, actuationModel, terminalCostModel), 0.)\n",
    "terminalModel.differential.armature = robot_model.armature\n",
    "\n",
    "T = 100\n",
    "T_inter = 1\n",
    "\n",
    "def create_problem(n):\n",
    "    rmseq = []\n",
    "    for i in range(n - 1):\n",
    "        rmseq += [make_running_model(rcms[i])] * T\n",
    "        rmseq += [make_running_model(tcms[i])] * T_inter\n",
    "    rmseq += [make_running_model(rcms[n-1])] * T\n",
    "    tm = make_terminal_model(tcms[n-1])\n",
    "    return crocoddyl.ShootingProblem(robot_model.x0, rmseq, tm)\n",
    "\n",
    "ddp = crocoddyl.SolverDDP(create_problem(4))\n",
    "ddp.solve()\n"
   ]
  },
  {
   "cell_type": "code",
   "execution_count": 28,
   "metadata": {},
   "outputs": [],
   "source": [
    "crocutils.displayTrajectory(viz,ddp.xs,ddp.problem.runningModels[0].dt,12)"
   ]
  },
  {
   "cell_type": "code",
   "execution_count": null,
   "metadata": {},
   "outputs": [],
   "source": []
  }
 ],
 "metadata": {
  "kernelspec": {
   "display_name": "Python 3 (ipykernel)",
   "language": "python",
   "name": "python3"
  },
  "language_info": {
   "codemirror_mode": {
    "name": "ipython",
    "version": 3
   },
   "file_extension": ".py",
   "mimetype": "text/x-python",
   "name": "python",
   "nbconvert_exporter": "python",
   "pygments_lexer": "ipython3",
   "version": "3.9.15"
  }
 },
 "nbformat": 4,
 "nbformat_minor": 4
}
