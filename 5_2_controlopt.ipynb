{
 "cells": [
  {
   "cell_type": "markdown",
   "metadata": {},
   "source": [
    "# Reaching multiple targets with a manipulator\n",
    "The objective of this exercise is to reach multiple targets with a manipulator.\n",
    "\n",
    "We provide a basic example for reaching one point, and you have to modify it for sequence of multiple targets. Below it is the basic example, there we'll guide you to the final result.\n"
   ]
  },
  {
   "cell_type": "markdown",
   "metadata": {},
   "source": [
    "## Set up"
   ]
  },
  {
   "cell_type": "code",
   "execution_count": 1,
   "metadata": {},
   "outputs": [
    {
     "name": "stdout",
     "output_type": "stream",
     "text": [
      "NB: as for all the tutorials, a magic command %do_not_load is introduced to hide the solutions to some questions. Change it for %load if you want to see (and execute) the solution.\n"
     ]
    }
   ],
   "source": [
    "import magic_donotload"
   ]
  },
  {
   "cell_type": "markdown",
   "metadata": {},
   "source": [
    "We will need crocoddyl as in the previous notebook, with the model of the arm of the humanoid robot Talos, a 7-dof arm. It can be found in example robot data."
   ]
  },
  {
   "cell_type": "code",
   "execution_count": 2,
   "metadata": {},
   "outputs": [],
   "source": [
    "import crocoddyl\n",
    "import pinocchio\n",
    "import numpy as np\n",
    "import example_robot_data as robex"
   ]
  },
  {
   "cell_type": "markdown",
   "metadata": {},
   "source": [
    "## The optimal-control program"
   ]
  },
  {
   "cell_type": "markdown",
   "metadata": {},
   "source": [
    "First, let's load the Pinocchio model for the Talos arm."
   ]
  },
  {
   "cell_type": "code",
   "execution_count": 3,
   "metadata": {},
   "outputs": [],
   "source": [
    "robot = robex.load('talos_arm')\n",
    "robot_model = robot.model"
   ]
  },
  {
   "cell_type": "markdown",
   "metadata": {},
   "source": [
    "Set robot model."
   ]
  },
  {
   "cell_type": "code",
   "execution_count": 4,
   "metadata": {},
   "outputs": [],
   "source": [
    "robot_model.armature =np.array([1.0, 1.0, 1.0, 1.0, 1.0, 1.0, 0.])*5  # It is a regularization of the mass matric M' = M + lamb I\n",
    "robot_model.q0 = np.array([3.5,2,2,0,0,0,0])\n",
    "robot_model.x0 = np.concatenate([robot_model.q0, np.zeros(robot_model.nv)])\n",
    "robot_model.gravity *= 0"
   ]
  },
  {
   "cell_type": "markdown",
   "metadata": {},
   "source": [
    "Let's add a viewer to display the model.\n"
   ]
  },
  {
   "cell_type": "code",
   "execution_count": 8,
   "metadata": {},
   "outputs": [
    {
     "name": "stdout",
     "output_type": "stream",
     "text": [
      "You can open the visualizer by visiting the following URL:\n",
      "http://127.0.0.1:7001/static/\n"
     ]
    },
    {
     "data": {
      "text/html": [
       "\n",
       "            <div style=\"height: 400px; width: 100%; overflow-x: auto; overflow-y: hidden; resize: both\">\n",
       "            <iframe src=\"http://127.0.0.1:7001/static/\" style=\"width: 100%; height: 100%; border: none\"></iframe>\n",
       "            </div>\n",
       "            "
      ],
      "text/plain": [
       "<IPython.core.display.HTML object>"
      ]
     },
     "execution_count": 8,
     "metadata": {},
     "output_type": "execute_result"
    }
   ],
   "source": [
    "from utils.meshcat_viewer_wrapper import MeshcatVisualizer\n",
    "viz = MeshcatVisualizer(robot)\n",
    "viz.display(robot_model.q0)\n",
    "viz.viewer.jupyter_cell()"
   ]
  },
  {
   "cell_type": "code",
   "execution_count": 9,
   "metadata": {},
   "outputs": [],
   "source": [
    "viz.addBox('world/box',[.1,.1,.1], [1.,0,0,1])\n",
    "viz.addBox('world/goal',[.1,.1,.1],[0,1,0,1])\n",
    "viz.applyConfiguration('world/goal',[0.2,0.5,.5,0,0,0,1])"
   ]
  },
  {
   "cell_type": "markdown",
   "metadata": {},
   "source": [
    "Configure the task."
   ]
  },
  {
   "cell_type": "code",
   "execution_count": 10,
   "metadata": {},
   "outputs": [],
   "source": [
    "FRAME_TIP = robot_model.getFrameId(\"gripper_left_fingertip_3_link\")  # Wrapper around pinocchio\n",
    "goal = np.array([.2,0.5,.5])"
   ]
  },
  {
   "cell_type": "markdown",
   "metadata": {},
   "source": [
    "Create a cost model per the running and terminal action model."
   ]
  },
  {
   "cell_type": "code",
   "execution_count": 11,
   "metadata": {},
   "outputs": [],
   "source": [
    "state = crocoddyl.StateMultibody(robot_model)\n",
    "# The state object containt info about the configspace, the constraint, the velocity, the kinematic values and everything\n",
    "\n",
    "# State is quite abstract, to have a real solvable OCP we need to define somme cost associated to this model\n",
    "# We also need to decide the actual dynamic we will follow (called actuation), it means a solver that will be ourf(x,u) AND a way to descretize it\n",
    "\n",
    "runningCostModel = crocoddyl.CostModelSum(state)  # The state will remain the same during running \n",
    "terminalCostModel = crocoddyl.CostModelSum(state)  # And also for final state"
   ]
  },
  {
   "cell_type": "markdown",
   "metadata": {},
   "source": [
    "Note that we need to include a cost model (i.e. set of cost functions) in order to fully define the action model for our optimal control problem.\n",
    "For this particular example, we formulate three running-cost functions: goal-tracking cost, state and control regularization; and a terminal cost: goal cost. First, let's create the common cost functions."
   ]
  },
  {
   "cell_type": "code",
   "execution_count": 12,
   "metadata": {},
   "outputs": [
    {
     "name": "stderr",
     "output_type": "stream",
     "text": [
      "Deprecated: Do not use FramePlacement.\n",
      "Deprecated: Do not use FrameTranslation.\n",
      "Deprecated: Do not use FrameTranslation.\n",
      "Deprecated: Do not use FrameTranslation.\n",
      "Deprecated CostModelFrameTranslation: Use ResidualModelFrameTranslation with CostModelResidual\n",
      "Deprecated CostModelState: Use ResidualModelState with CostModelResidual\n",
      "Deprecated CostModelState: Use ResidualModelState with CostModelResidual\n",
      "Deprecated CostModelControl: Use ResidualModelControl with CostModelResidual\n"
     ]
    }
   ],
   "source": [
    "### Cost for reaching the target\n",
    "Mref = crocoddyl.FramePlacement(FRAME_TIP,pinocchio.SE3(np.eye(3), goal))\n",
    "pref = crocoddyl.FrameTranslation(FRAME_TIP,goal)\n",
    "goalTrackingCost = crocoddyl.CostModelFrameTranslation(state, pref)\n",
    "\n",
    "### Cost for regularizing the state about robot_model.x0, running AND terminal\n",
    "weights=crocoddyl.ActivationModelWeightedQuad(np.array([1,1,1,1,1,1,1, 1,1,1,1,2,2,2.]))\n",
    "xRegCost = crocoddyl.CostModelState(state,weights,robot_model.x0)\n",
    "weightsT=crocoddyl.ActivationModelWeightedQuad(np.array([.01,.01,.01,.01,.01,.01,.01, 1,1,1,1,2,2,2.]))\n",
    "xRegCostT = crocoddyl.CostModelState(state,weightsT,robot_model.x0)\n",
    "\n",
    "### Cost for keeping the control low: around zeros with uniform weights\n",
    "uRegCost = crocoddyl.CostModelControl(state)\n"
   ]
  },
  {
   "cell_type": "markdown",
   "metadata": {},
   "source": [
    "Then let's added the running and terminal cost functions and the constant weight for each whole cost"
   ]
  },
  {
   "cell_type": "code",
   "execution_count": 13,
   "metadata": {},
   "outputs": [],
   "source": [
    "runningCostModel.addCost(\"gripperPose\", goalTrackingCost, .001)  # addCost is a method of CostModelSum that take another CostModel\n",
    "runningCostModel.addCost(\"xReg\", xRegCost, 1e-3)  # We also weight the sum of cost\n",
    "runningCostModel.addCost(\"uReg\", uRegCost, 1e-6)\n",
    "terminalCostModel.addCost(\"gripperPose\", goalTrackingCost, 10)\n",
    "terminalCostModel.addCost(\"xReg\", xRegCostT, .01)"
   ]
  },
  {
   "cell_type": "markdown",
   "metadata": {},
   "source": [
    "Next, we need to create an action model for running and terminal knots. The\n",
    "forward dynamics (computed using ABA) are implemented inside DifferentialActionModelFullyActuated."
   ]
  },
  {
   "cell_type": "code",
   "execution_count": 14,
   "metadata": {},
   "outputs": [],
   "source": [
    "actuationModel = crocoddyl.ActuationModelFull(state)\n",
    "dt = 1e-2\n",
    "# A step in the running step\n",
    "## We use the freefall forward dynamic as dotx = f(x,u) it could be a contact one (as in prev TP) and so on\n",
    "### It is the differential model chosen around the state\n",
    "## We precise the duration of the step dt\n",
    "## We precise the integration scheme we use \n",
    "### It is the integrated model chosen around the differential model\n",
    "## We precise which cost is used during this step\n",
    "runningModel = crocoddyl.IntegratedActionModelEuler(\n",
    "    crocoddyl.DifferentialActionModelFreeFwdDynamics(state, actuationModel, runningCostModel), dt)\n",
    "runningModel.differential.armature = robot_model.armature\n",
    "\n",
    "\n",
    "terminalModel = crocoddyl.IntegratedActionModelEuler(\n",
    "    crocoddyl.DifferentialActionModelFreeFwdDynamics(state, actuationModel, terminalCostModel), 0.)\n",
    "terminalModel.differential.armature = robot_model.armature"
   ]
  },
  {
   "cell_type": "markdown",
   "metadata": {},
   "source": [
    "For this optimal control problem, we define 250 knots (or running action\n",
    "models) plus a terminal knot"
   ]
  },
  {
   "cell_type": "code",
   "execution_count": 15,
   "metadata": {},
   "outputs": [],
   "source": [
    "T = 100\n",
    "problem = crocoddyl.ShootingProblem(robot_model.x0, [runningModel] * T, terminalModel)\n",
    "# We chain all the discrete step with their cost from an initial value even the final one that have the terminal costs\n",
    "# We just repeat the running step for a number of time and add the terminal node\n",
    "## This problem object contain discretized dynamic and cost on horizon T for a state (aka a system)\n",
    "### Alternative could have be variable actuaction type, e.g. to force sequence of contact\n",
    "### other integration...\n",
    "### Other type of problem like multiple shooting, colocation...\n",
    "# Problem is an OCP problem formulation !"
   ]
  },
  {
   "cell_type": "markdown",
   "metadata": {},
   "source": [
    "We finalize the set up by creating the DDP solver for this optimal control problem."
   ]
  },
  {
   "cell_type": "code",
   "execution_count": 16,
   "metadata": {},
   "outputs": [],
   "source": [
    "# We wrap the problem into a solver (an algorithm method to solve OCP)\n",
    "ddp = crocoddyl.SolverDDP(problem)"
   ]
  },
  {
   "cell_type": "markdown",
   "metadata": {},
   "source": [
    "Callbacks can be added, for example to at verbose output when the solver runs, or logs the data of the descent algorithm."
   ]
  },
  {
   "cell_type": "code",
   "execution_count": 17,
   "metadata": {},
   "outputs": [],
   "source": [
    "ddp.setCallbacks([\n",
    "    crocoddyl.CallbackLogger(),\n",
    "    crocoddyl.CallbackVerbose(),\n",
    "])"
   ]
  },
  {
   "cell_type": "markdown",
   "metadata": {},
   "source": [
    "The DDP algorithm is run by the solver with:"
   ]
  },
  {
   "cell_type": "code",
   "execution_count": 23,
   "metadata": {},
   "outputs": [
    {
     "name": "stdout",
     "output_type": "stream",
     "text": [
      "iter     cost         stop         grad         xreg         ureg       step    ||ffeas||\n",
      "   0  3.00773e+00  2.02499e-07  1.38003e+01  1.00000e-09  1.00000e-09  1.0000  3.50000e+00\n",
      "   1  2.44328e+00  8.10451e-03  4.05595e+00  1.00000e-09  1.00000e-09  0.5000  0.00000e+00\n",
      "   2  2.38482e+00  1.39317e+00  4.46815e+00  1.00000e-09  1.00000e-09  0.0312  0.00000e+00\n",
      "   3  2.31174e+00  1.27671e+00  4.03775e+00  1.00000e-09  1.00000e-09  0.0625  0.00000e+00\n",
      "   4  2.20646e+00  9.48034e-01  3.65929e+00  1.00000e-09  1.00000e-09  0.0625  0.00000e+00\n",
      "   5  8.07975e-01  7.76175e-01  3.24833e+00  1.00000e-09  1.00000e-09  1.0000  0.00000e+00\n",
      "   6  7.24996e-01  5.03473e-01  8.46602e-01  1.00000e-09  1.00000e-09  0.0625  0.00000e+00\n",
      "   7  5.74868e-01  4.17031e-01  4.91489e-01  1.00000e-09  1.00000e-09  0.2500  0.00000e+00\n",
      "   8  5.56593e-01  1.74155e-04  4.52707e-01  1.00000e-09  1.00000e-09  0.0625  0.00000e+00\n",
      "   9  5.24602e-01  3.43639e-03  4.02757e-01  1.00000e-09  1.00000e-09  0.1250  0.00000e+00\n",
      "iter     cost         stop         grad         xreg         ureg       step    ||ffeas||\n",
      "  10  4.53819e-01  9.80865e-03  4.36979e-01  1.00000e-09  1.00000e-09  0.1250  0.00000e+00\n",
      "  11  4.40213e-01  8.22974e-03  3.55627e-01  1.00000e-09  1.00000e-09  0.1250  0.00000e+00\n",
      "  12  4.25345e-01  5.16663e-02  4.54999e-01  1.00000e-09  1.00000e-09  0.0625  0.00000e+00\n",
      "  13  4.07076e-01  5.33632e-02  3.80851e-01  1.00000e-09  1.00000e-09  0.0625  0.00000e+00\n",
      "  14  3.99255e-01  5.18338e-02  1.13046e-01  1.00000e-09  1.00000e-09  0.1250  0.00000e+00\n",
      "  15  3.94406e-01  5.30757e-02  1.37113e-01  1.00000e-09  1.00000e-09  0.0625  0.00000e+00\n",
      "  16  3.92895e-01  5.20661e-02  1.71428e-01  1.00000e-09  1.00000e-09  0.0625  0.00000e+00\n",
      "  17  3.89796e-01  5.61329e-02  2.51430e-01  1.00000e-09  1.00000e-09  0.0312  0.00000e+00\n",
      "  18  3.86808e-01  5.61583e-02  3.03762e-01  1.00000e-09  1.00000e-09  0.0312  0.00000e+00\n",
      "  19  3.83998e-01  5.57339e-02  3.56409e-01  1.00000e-09  1.00000e-09  0.0312  0.00000e+00\n",
      "iter     cost         stop         grad         xreg         ureg       step    ||ffeas||\n",
      "  20  3.81363e-01  5.41043e-02  3.90198e-01  1.00000e-09  1.00000e-09  0.0312  0.00000e+00\n",
      "  21  3.77933e-01  5.09743e-02  3.89896e-01  1.00000e-09  1.00000e-09  0.0312  0.00000e+00\n",
      "  22  3.72442e-01  4.62825e-02  3.64055e-01  1.00000e-09  1.00000e-09  0.0312  0.00000e+00\n",
      "  23  3.63702e-01  4.04253e-02  3.26512e-01  1.00000e-09  1.00000e-09  0.0625  0.00000e+00\n",
      "  24  3.48492e-01  2.14930e-02  2.58512e-01  1.00000e-09  1.00000e-09  0.1250  0.00000e+00\n",
      "  25  3.09319e-01  1.55011e-04  2.28303e-01  1.00000e-09  1.00000e-09  0.2500  0.00000e+00\n",
      "  26  2.92717e-01  2.14816e-04  3.89451e-01  1.00000e-09  1.00000e-09  0.0625  0.00000e+00\n",
      "  27  2.86614e-01  1.48073e-03  2.63520e-01  1.00000e-09  1.00000e-09  0.0625  0.00000e+00\n",
      "  28  2.80809e-01  1.58761e-03  2.22596e-01  1.00000e-09  1.00000e-09  0.0625  0.00000e+00\n",
      "  29  2.76759e-01  7.09713e-04  1.91998e-01  1.00000e-09  1.00000e-09  0.1250  0.00000e+00\n",
      "iter     cost         stop         grad         xreg         ureg       step    ||ffeas||\n",
      "  30  2.49486e-01  2.01500e-03  1.71643e-01  1.00000e-09  1.00000e-09  0.2500  0.00000e+00\n",
      "  31  2.34597e-01  2.80297e-02  1.72424e-01  1.00000e-09  1.00000e-09  0.2500  0.00000e+00\n",
      "  32  2.31131e-01  1.09873e-02  1.97054e-01  1.00000e-09  1.00000e-09  0.1250  0.00000e+00\n",
      "  33  2.22923e-01  5.90270e-03  2.70368e-01  1.00000e-09  1.00000e-09  0.0625  0.00000e+00\n",
      "  34  1.94427e-01  4.98233e-03  2.71014e-01  1.00000e-09  1.00000e-09  0.1250  0.00000e+00\n",
      "  35  1.91160e-01  2.75546e-03  2.07426e-01  1.00000e-09  1.00000e-09  0.0312  0.00000e+00\n",
      "  36  1.89313e-01  2.39734e-03  2.40411e-01  1.00000e-09  1.00000e-09  0.0312  0.00000e+00\n",
      "  37  1.86939e-01  2.04752e-03  2.87973e-01  1.00000e-09  1.00000e-09  0.0156  0.00000e+00\n",
      "  38  1.84469e-01  1.93610e-03  3.07535e-01  1.00000e-09  1.00000e-09  0.0156  0.00000e+00\n",
      "  39  1.81762e-01  1.83255e-03  3.16095e-01  1.00000e-09  1.00000e-09  0.0156  0.00000e+00\n",
      "iter     cost         stop         grad         xreg         ureg       step    ||ffeas||\n",
      "  40  1.79504e-01  1.73882e-03  3.10131e-01  1.00000e-09  1.00000e-09  0.0312  0.00000e+00\n",
      "  41  1.73461e-01  1.52316e-03  2.85189e-01  1.00000e-09  1.00000e-09  0.0625  0.00000e+00\n",
      "  42  1.38472e-01  1.20241e-03  2.52662e-01  1.00000e-09  1.00000e-09  0.1250  0.00000e+00\n",
      "  43  1.13692e-01  9.32504e-04  1.85115e-01  1.00000e-09  1.00000e-09  0.1250  0.00000e+00\n",
      "  44  1.09150e-01  8.81085e-05  1.73874e-01  1.00000e-09  1.00000e-09  0.0625  0.00000e+00\n",
      "  45  1.05923e-01  8.52726e-05  1.76403e-01  1.00000e-09  1.00000e-09  0.0312  0.00000e+00\n",
      "  46  1.02890e-01  1.16018e-04  1.68383e-01  1.00000e-09  1.00000e-09  0.0312  0.00000e+00\n",
      "  47  1.01247e-01  1.76804e-04  1.56685e-01  1.00000e-09  1.00000e-09  0.0625  0.00000e+00\n",
      "  48  9.70546e-02  6.79984e-04  1.42631e-01  1.00000e-09  1.00000e-09  0.0625  0.00000e+00\n",
      "  49  9.32748e-02  1.07617e-03  1.25763e-01  1.00000e-09  1.00000e-09  0.0625  0.00000e+00\n",
      "iter     cost         stop         grad         xreg         ureg       step    ||ffeas||\n",
      "  50  7.72414e-02  8.74717e-04  1.68407e-01  1.00000e-09  1.00000e-09  0.1250  0.00000e+00\n",
      "  51  6.52862e-02  9.19902e-04  1.32750e-01  1.00000e-09  1.00000e-09  0.1250  0.00000e+00\n",
      "  52  6.31687e-02  8.21050e-04  1.10759e-01  1.00000e-09  1.00000e-09  0.0625  0.00000e+00\n",
      "  53  6.10070e-02  7.03029e-04  1.02009e-01  1.00000e-09  1.00000e-09  0.0625  0.00000e+00\n",
      "  54  5.83051e-02  6.03540e-04  9.29437e-02  1.00000e-09  1.00000e-09  0.0625  0.00000e+00\n",
      "  55  5.57650e-02  5.18947e-04  8.36293e-02  1.00000e-09  1.00000e-09  0.1250  0.00000e+00\n",
      "  56  4.92540e-02  3.68754e-04  7.36708e-02  1.00000e-09  1.00000e-09  0.2500  0.00000e+00\n",
      "  57  3.82447e-02  1.98115e-04  5.82544e-02  1.00000e-09  1.00000e-09  0.5000  0.00000e+00\n",
      "  58  3.02991e-02  8.25491e-05  3.63770e-02  1.00000e-09  1.00000e-09  0.5000  0.00000e+00\n",
      "  59  2.13443e-02  2.28805e-06  2.05291e-02  1.00000e-09  1.00000e-09  1.0000  0.00000e+00\n",
      "iter     cost         stop         grad         xreg         ureg       step    ||ffeas||\n",
      "  60  2.09493e-02  1.60923e-04  3.53529e-03  1.00000e-09  1.00000e-09  1.0000  0.00000e+00\n",
      "  61  2.04860e-02  1.26044e-05  3.83314e-03  1.00000e-09  1.00000e-09  1.0000  0.00000e+00\n",
      "  62  1.94711e-02  8.50131e-05  3.89767e-03  1.00000e-09  1.00000e-09  1.0000  0.00000e+00\n",
      "  63  1.92717e-02  1.60706e-06  3.02697e-03  1.00000e-09  1.00000e-09  0.1250  0.00000e+00\n",
      "  64  1.90296e-02  2.34443e-06  1.92860e-03  1.00000e-09  1.00000e-09  0.2500  0.00000e+00\n",
      "  65  1.84753e-02  3.04108e-06  1.14209e-03  1.00000e-09  1.00000e-09  1.0000  0.00000e+00\n",
      "  66  1.84643e-02  1.66223e-07  6.64948e-05  1.00000e-09  1.00000e-09  0.5000  0.00000e+00\n",
      "  67  1.84598e-02  1.04465e-07  4.03756e-05  1.00000e-09  1.00000e-09  0.5000  0.00000e+00\n",
      "  68  1.84576e-02  8.30735e-08  2.80719e-05  1.00000e-09  1.00000e-09  0.5000  0.00000e+00\n",
      "  69  1.84560e-02  4.37931e-08  2.07185e-05  1.00000e-09  1.00000e-09  0.5000  0.00000e+00\n",
      "iter     cost         stop         grad         xreg         ureg       step    ||ffeas||\n",
      "  70  1.84547e-02  2.89873e-08  1.51796e-05  1.00000e-09  1.00000e-09  0.5000  0.00000e+00\n",
      "  71  1.84539e-02  1.50243e-08  1.07605e-05  1.00000e-09  1.00000e-09  0.5000  0.00000e+00\n",
      "  72  1.84533e-02  9.18402e-09  7.70062e-06  1.00000e-09  1.00000e-09  0.5000  0.00000e+00\n",
      "  73  1.84530e-02  4.81285e-09  5.43949e-06  1.00000e-09  1.00000e-09  0.5000  0.00000e+00\n",
      "  74  1.84527e-02  2.82934e-09  3.90509e-06  1.00000e-09  1.00000e-09  0.5000  0.00000e+00\n"
     ]
    },
    {
     "data": {
      "text/plain": [
       "True"
      ]
     },
     "execution_count": 23,
     "metadata": {},
     "output_type": "execute_result"
    },
    {
     "name": "stdout",
     "output_type": "stream",
     "text": [
      "  75  1.84525e-02  1.50275e-09  2.79244e-06  1.00000e-09  1.00000e-09  0.5000  0.00000e+00\n",
      "  76  1.84524e-02  8.64158e-10  2.02615e-06  1.00000e-09  1.00000e-09  0.5000  0.00000e+00\n"
     ]
    }
   ],
   "source": [
    "ddp.solve([],[],1000)  # xs_init,us_init,maxiter"
   ]
  },
  {
   "cell_type": "markdown",
   "metadata": {},
   "source": [
    "You can now look at the results, either in Gepetto-viewer by running the trajectory, or by plotting it."
   ]
  },
  {
   "cell_type": "code",
   "execution_count": 20,
   "metadata": {},
   "outputs": [],
   "source": [
    "import tp5.croco_utils as crocutils\n",
    "crocutils.displayTrajectory(viz,ddp.xs,ddp.problem.runningModels[0].dt,12)"
   ]
  },
  {
   "cell_type": "markdown",
   "metadata": {},
   "source": [
    "And plotting..."
   ]
  },
  {
   "cell_type": "code",
   "execution_count": 18,
   "metadata": {},
   "outputs": [],
   "source": [
    "%matplotlib inline"
   ]
  },
  {
   "cell_type": "code",
   "execution_count": 24,
   "metadata": {},
   "outputs": [
    {
     "data": {
      "image/png": "[encoded data removed]",
      "text/plain": [
       "<Figure size 640x480 with 2 Axes>"
      ]
     },
     "metadata": {},
     "output_type": "display_data"
    }
   ],
   "source": [
    "log = ddp.getCallbacks()[0]\n",
    "crocoddyl.plotOCSolution(log.xs, log.us, figIndex=1)"
   ]
  },
  {
   "cell_type": "markdown",
   "metadata": {},
   "source": [
    "Some elements describing the solver convergence can also been plotted."
   ]
  },
  {
   "cell_type": "code",
   "execution_count": 23,
   "metadata": {},
   "outputs": [
    {
     "data": {
      "image/png": "[encoded data removed]",
      "text/plain": [
       "<Figure size 640x800 with 5 Axes>"
      ]
     },
     "metadata": {},
     "output_type": "display_data"
    }
   ],
   "source": [
    "crocoddyl.plotConvergence(log.costs, log.u_regs, log.x_regs, log.grads, log.stops, log.steps, figIndex=2)"
   ]
  },
  {
   "cell_type": "markdown",
   "metadata": {},
   "source": [
    "## I. DifferentialActionModel for Pinocchio ABA\n",
    "ABA is a Rigid Body Algorithm optimized to calculate the acceleration in configuration space given the torque.\n",
    "\n",
    "This scenario uses an action model that computes 2nd order differential dynamics with Pinocchio. Note that it can accept several cost models. This action model is tailored for robot applications, and at the same time, it's modular since:\n",
    " - you can modify the robot dynamics by changing Pinocchio model, and\n",
    " - you can formulate any cost function by simply adding running and/or terminal costs.\n",
    "\n",
    "## II. Cost models\n",
    "\n",
    "A cost model computes a scalar cost value and its gradient and Hessian. All the models implemented are computing a cost residual and are computing the Hessian with the Gauss approximation.\n",
    "\n",
    "We implemented reusable cost models for controlling \n",
    " - a frame placement (translation or velocity),\n",
    " - the center of mass position, and \n",
    " - state  and control spaces.\n",
    "\n",
    "In the example above, we used the CostModelFrameTranslation which defines a 3d position task, and the state and control regularizers."
   ]
  },
  {
   "cell_type": "markdown",
   "metadata": {},
   "source": [
    "All functions are defined by their *model*, which is const, i.e none of its fields is modified by the *calc* and *calcDiff* calls. Temporary buffers are defined in a companion *data*."
   ]
  },
  {
   "cell_type": "code",
   "execution_count": 25,
   "metadata": {},
   "outputs": [],
   "source": [
    "dataCollector = crocoddyl.DataCollectorMultibody(robot.data)\n",
    "trackData = goalTrackingCost.createData(dataCollector)"
   ]
  },
  {
   "cell_type": "markdown",
   "metadata": {},
   "source": [
    "### II.a Frame position cost\n",
    "\n",
    "You define a frame ID and the reference position as a 3D array. The cost is the distance between the frame and the target. This cost depends on $\\mathbf{x}$ (specifically the configuration $\\mathbf{q}$). You can double check the 0s in its gradient."
   ]
  },
  {
   "cell_type": "code",
   "execution_count": 26,
   "metadata": {},
   "outputs": [
    {
     "name": "stdout",
     "output_type": "stream",
     "text": [
      "Lx =  [-0.07596597  0.03892435  0.13087767 -0.01389783 -0.01787752  0.05840131\n",
      "  0.          0.          0.          0.          0.          0.\n",
      "  0.          0.        ]\n",
      "Lu =  [0. 0. 0. 0. 0. 0. 0.]\n"
     ]
    }
   ],
   "source": [
    "x = ddp.xs[1].copy()\n",
    "q = x[:state.nq]\n",
    "pinocchio.updateFramePlacements(robot.model, robot.data)\n",
    "pinocchio.computeJointJacobians(robot.model, robot.data, q)\n",
    "goalTrackingCost.calc(trackData, x)\n",
    "goalTrackingCost.calcDiff(trackData, x)\n",
    "print('Lx = ',trackData.Lx) # For gradient\n",
    "print('Lu = ',trackData.Lu)"
   ]
  },
  {
   "cell_type": "markdown",
   "metadata": {},
   "source": [
    "### II.b State cost\n",
    "In this part of the tutorial you must define a State model. It defines \n",
    " - the dimension of the state and its tangent, and\n",
    " - the exponential/integrate and difference/log operators.\n",
    "The operators can described using Pinocchio functions. And the exercite consists on adding them into your State class. Please note crocoddyl has abstract functions for this.\n",
    "\n",
    "The state cost uses a reference in state space (State.zero() by default). The cost is the distance, computed with state.difference between the current state and the reference. Hence, with this cost, we regularize both position and velocity.\n",
    "\n",
    "### II.c Control cost\n",
    "\n",
    "The control cost uses a control reference as in the state cost. The cost is the distance the current control and the reference. Hence the cost regularizes torque commands."
   ]
  },
  {
   "cell_type": "markdown",
   "metadata": {},
   "source": [
    "### II.d Add cost models to the differential action model\n",
    "Each time we want to include a new cost function, we use addCost function inside our DAM. In this function you're also able its weight."
   ]
  },
  {
   "cell_type": "markdown",
   "metadata": {},
   "source": [
    "## III. Create the problem with integrated action model\n",
    "Differential action models describe cost and dynamics in continuous-time, however our optimal control solvers work in discrete-time. We have created the integrated action model in order to deal with this.\n",
    "\n",
    "In the previous code, we have used an abstract class that uses simpletic Euler rules. In the cartpole exercise you have learnt how to use integrated action models for your problem."
   ]
  },
  {
   "cell_type": "markdown",
   "metadata": {},
   "source": [
    "## IV. Callbacks\n",
    "\n",
    "Callback functions are needed for analysing and debugging the performance of the solver for your specific problem.\n",
    "For problems defined with Pinocchio, you can display the robot trajectory per each iterate by including CallbackDisplay. With this callback, you can display robot motions with different rates. Additionally, CallbackVerbose prints a message that allows us to understand the behaviour of the solver.\n",
    "\n",
    "Generally speaking, an user is able to describe any callback function. This function will be run once per iterate and it has access to all data."
   ]
  },
  {
   "cell_type": "markdown",
   "metadata": {},
   "source": [
    "## VI. Modifying the example\n",
    "\n",
    "Start by defining several targets (let's say 4 targets, all at x=0.4, and at y and z being either 0 or 0.4), and display then in the viewer.\n"
   ]
  },
  {
   "cell_type": "code",
   "execution_count": null,
   "metadata": {},
   "outputs": [],
   "source": []
  },
  {
   "cell_type": "markdown",
   "metadata": {},
   "source": [
    "The shooting problem will be composed of 4 sequences of action models. Each sequence consists on T shooting \"running\" nodes and 1 terminal node. The running nodes mostly have regularization terms, while the terminal nodes have a strong cost toward the respective target.\n",
    "\n",
    "[ R1,R1,R1 ... R1,T1, R2,R2 .... R2, T2, R3 ... R3, T3, R4 ... R4 ] , T4\n",
    "\n",
    "First create 4 running models and 4 terminal models."
   ]
  },
  {
   "cell_type": "code",
   "execution_count": null,
   "metadata": {},
   "outputs": [],
   "source": []
  },
  {
   "cell_type": "markdown",
   "metadata": {},
   "source": [
    "Then you need to add a position cost, and state and control regularization to each running action model. Please  note that for terminal action model is only needed the position cost. Additionally, in the running models, the position cost should be low, and it should be high in the terminal models."
   ]
  },
  {
   "cell_type": "code",
   "execution_count": null,
   "metadata": {},
   "outputs": [],
   "source": []
  },
  {
   "cell_type": "markdown",
   "metadata": {},
   "source": [
    "Now create a shooting problem."
   ]
  },
  {
   "cell_type": "code",
   "execution_count": null,
   "metadata": {},
   "outputs": [],
   "source": [
    "seq0 = [runningModels[0]]*T + [terminalModels[0]]\n",
    "seq1 = [runningModels[1]]*T + [terminalModels[1]]\n",
    "seq2 = [runningModels[2]]*T + [terminalModels[2]]\n",
    "seq3 = [runningModels[3]]*T \n",
    "problem_1 = crocoddyl.ShootingProblem(x0,seq0+seq1+seq2+seq3,terminalModels[3])\n",
    "problem = crocoddyl.ShootingProblem(x0,seq0+seq1+seq2+seq3,terminalModels[3])\n",
    "\n"
   ]
  },
  {
   "cell_type": "markdown",
   "metadata": {},
   "source": [
    "Create a DDP solver for this problem and run it. "
   ]
  },
  {
   "cell_type": "code",
   "execution_count": null,
   "metadata": {},
   "outputs": [],
   "source": [
    "ddp = crocoddyl.SolverDDP(problem)\n",
    "ddp.solve()"
   ]
  },
  {
   "cell_type": "markdown",
   "metadata": {},
   "source": [
    "Well, it should not work, at least no on the first shot. The DDP solver is likely not strong enough to accept the random weights that you have selected. \n",
    "\n",
    "If it is working nicely from the first shot, display it in the viewer and go take a coffee. But you will likely have to tweak the gains to make it work.\n",
    "\n",
    "**It is suggested to first optimize only sequence 1. When you are happy with it, add sequence 2 and optimize again, etc.**\n",
    "\n",
    "OCP allows to reduce the problem to a weight tunning one. However, some research try to automate this weight tunning part."
   ]
  },
  {
   "cell_type": "markdown",
   "metadata": {},
   "source": [
    "## V. Penalty\n",
    "The solver works with double precisions, so it is quite robust to high weight. 10000 is likely to be accepted for example. But if you make the problem too difficult, the solver will break. \n",
    "\n",
    "In that case, you can implement a simple penalty solver by setting the weight to be 10**i, and creating a for loop to explore i from 0 to 5. At each iteration of the loop, run the solver from the previous solution and for few iterations only."
   ]
  },
  {
   "cell_type": "code",
   "execution_count": null,
   "metadata": {},
   "outputs": [],
   "source": [
    "for i in range(1,6):\n",
    "    for m in terminalModels:\n",
    "        m.costs.costs['gripperPose'].weight = 10**i\n",
    "    ddp.solve(ddp.xs, ddp.us, 10)"
   ]
  }
 ],
 "metadata": {
  "kernelspec": {
   "display_name": "Python 3 (ipykernel)",
   "language": "python",
   "name": "python3"
  },
  "language_info": {
   "codemirror_mode": {
    "name": "ipython",
    "version": 3
   },
   "file_extension": ".py",
   "mimetype": "text/x-python",
   "name": "python",
   "nbconvert_exporter": "python",
   "pygments_lexer": "ipython3",
   "version": "3.9.15"
  }
 },
 "nbformat": 4,
 "nbformat_minor": 4
}
