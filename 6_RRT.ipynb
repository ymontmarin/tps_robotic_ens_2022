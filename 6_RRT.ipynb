{
 "cells": [
  {
   "cell_type": "markdown",
   "id": "66575b61-30a5-4471-9e4e-a45c6fc396a9",
   "metadata": {},
   "source": [
    "# Implement RRT and its variant on UR5"
   ]
  },
  {
   "cell_type": "code",
   "execution_count": null,
   "id": "b5d79912-1a64-4466-8017-70724567b28c",
   "metadata": {},
   "outputs": [],
   "source": [
    "import math\n",
    "import time\n",
    "import pinocchio as pin\n",
    "import hppfcl\n",
    "import numpy as np\n",
    "import example_robot_data as robex\n",
    "import matplotlib.pylab as plt; plt.ion()\n",
    "from utils.meshcat_viewer_wrapper import MeshcatVisualizer"
   ]
  },
  {
   "cell_type": "code",
   "execution_count": null,
   "id": "bf038376-9d69-48e9-9bdb-0bcf3b641247",
   "metadata": {},
   "outputs": [],
   "source": [
    "import numpy as np\n",
    "\n",
    "from utils.datastructures.storage import Storage\n",
    "from utils.datastructures.pathtree import PathTree\n",
    "from utils.datastructures.mtree import MTree"
   ]
  },
  {
   "cell_type": "markdown",
   "id": "58561974-a3d2-4692-821c-30f4d0caf96f",
   "metadata": {},
   "source": [
    "## Load UR5"
   ]
  },
  {
   "cell_type": "code",
   "execution_count": null,
   "id": "7217ea2c-5cac-430e-8496-93e80e78b859",
   "metadata": {},
   "outputs": [],
   "source": [
    "robot = robex.load('ur5')"
   ]
  },
  {
   "cell_type": "code",
   "execution_count": null,
   "id": "9f521701-7416-4736-9363-305a45258d14",
   "metadata": {},
   "outputs": [],
   "source": [
    "a = robot.placement(robot.q0, 6)  # Placement of the end effector joint.\n",
    "b = robot.framePlacement(robot.q0, 22)  # Placement of the end effector tip.\n",
    "\n",
    "tool_axis = b.rotation[:, 2]  # Axis of the tool"
   ]
  },
  {
   "cell_type": "code",
   "execution_count": null,
   "id": "9204732c-6e84-4104-9e2f-67cb1b0f6dff",
   "metadata": {},
   "outputs": [],
   "source": [
    "NQ = robot.model.nq\n",
    "NV = robot.model.nv  # for this simple robot, NV == NQ"
   ]
  },
  {
   "cell_type": "code",
   "execution_count": null,
   "id": "d96626e3-1b22-446f-916a-f7ee54b78f04",
   "metadata": {},
   "outputs": [],
   "source": [
    "from utils.meshcat_viewer_wrapper import MeshcatVisualizer, colors  # noqa: E402\n",
    "\n",
    "viz = MeshcatVisualizer(robot)"
   ]
  },
  {
   "cell_type": "code",
   "execution_count": null,
   "id": "e2d1d4ee-c1f4-4350-9370-ed8f32dee4cf",
   "metadata": {},
   "outputs": [],
   "source": [
    "viz.viewer.jupyter_cell()"
   ]
  },
  {
   "cell_type": "code",
   "execution_count": null,
   "id": "4b14d4cd-9e44-4e14-9a56-ec08256d0238",
   "metadata": {},
   "outputs": [],
   "source": [
    "q = np.array([-1., -1.5, 2.1, -.5, -.5, 0])\n",
    "\n",
    "viz.display(q)"
   ]
  },
  {
   "cell_type": "markdown",
   "id": "ddbe01fa-a9c2-48fa-b551-77bf11f2abb1",
   "metadata": {},
   "source": [
    "## Create obstacle with environments"
   ]
  },
  {
   "cell_type": "code",
   "execution_count": null,
   "id": "015c78f6-f56e-4714-949a-ede4c02d66a5",
   "metadata": {},
   "outputs": [],
   "source": [
    "def add_obstacle(geom_obj):\n",
    "    col_model = robot.collision_model\n",
    "    col_model.addGeometryObject(geom_obj)\n",
    "\n",
    "    # Add check collisions between the robot and obstacles\n",
    "    robot_n_joints = 6\n",
    "    check_collision = range(robot_n_joints)\n",
    "    n_geom_model = len(geom_model.geometryObjects)\n",
    "    for collision_id in check_collision:\n",
    "        col_model.addCollisionPair(\n",
    "            pin.CollisionPair(collision_id, n_geom_model - 1)\n",
    "        )"
   ]
  },
  {
   "cell_type": "code",
   "execution_count": null,
   "id": "4c0b531f-992c-47cc-b101-d1113a2f0870",
   "metadata": {},
   "outputs": [],
   "source": [
    "# Add a red box in the viewer\n",
    "ballID = \"world/ball\"\n",
    "radius = 0.1\n",
    "viz.addSphere(ballID, radius, colors.red)\n",
    "\n",
    "# Also add as collision object\n",
    "geom_obj = pin.GeometryObject(hppfcl.Sphere(radius))\n",
    "add_obstacle(geom_obj)"
   ]
  },
  {
   "cell_type": "markdown",
   "id": "6a4bce9b-0c81-4c7a-bee9-02c9aa59b829",
   "metadata": {},
   "source": [
    "## Implement everything needed for RRT"
   ]
  },
  {
   "cell_type": "code",
   "execution_count": null,
   "id": "b74e5455-eae8-49fe-9030-f403467df288",
   "metadata": {},
   "outputs": [],
   "source": [
    "class System():\n",
    "\n",
    "    def __init__(self):\n",
    "        self.nq = 6\n",
    "    \n",
    "    def metric(self, q1, q2):\n",
    "        pass\n",
    "\n",
    "    def random_config(self):\n",
    "        pass\n",
    "\n",
    "    def is_colliding(self, q):\n",
    "        pass\n",
    "\n",
    "    def is_free_path(self, q1, q2, l_max):\n",
    "        pass\n",
    "\n",
    "    def display(self, q1, q2):\n",
    "        # Add an edge between end effector pose using a cylinder, and a ball for end effector position\n",
    "        # It is going to plot the graph\n",
    "        pass\n",
    "\n",
    "    def display_motion(self, qs):\n",
    "        # Given a point path display the smooth movement\n",
    "        pass"
   ]
  },
  {
   "cell_type": "markdown",
   "id": "914d0701-bc8f-46c0-8888-8e019f15cfc3",
   "metadata": {},
   "source": [
    "## RRT implementation"
   ]
  },
  {
   "cell_type": "code",
   "execution_count": null,
   "id": "a62a504d-9ac1-4bcc-a149-cd6516f90a0e",
   "metadata": {},
   "outputs": [],
   "source": [
    "class RRT():\n",
    "    \"\"\"\n",
    "    Can be splited into RRT base because different rrt\n",
    "    have factorisable logic\n",
    "    \"\"\"\n",
    "    def __init__(\n",
    "        self,\n",
    "        system,\n",
    "        node_max=500000,\n",
    "        iter_max=1000000,\n",
    "        steer_max_length=1.,\n",
    "        steer_delta=2e-1,\n",
    "    ):\n",
    "        self.datastructure_cls = MTree\n",
    "        self.datastructure_kwargs = {}\n",
    "        # params\n",
    "        self.system = system\n",
    "        self.node_max = node_max\n",
    "        self.iter_max = iter_max\n",
    "        self.steer_max_length = steer_max_length\n",
    "        self.steer_delta = steer_delta\n",
    "        # intern\n",
    "        self.NNtree = None\n",
    "        self.storage = None\n",
    "        self.pathtree = None\n",
    "        # The distance function will be called on N, dim object\n",
    "        self.real_distance = self.system.metric\n",
    "        self.distance\n",
    "        # Internal for computational_opti\n",
    "        self._candidate = None\n",
    "        self._cached_dist_to_candidate = None\n",
    "\n",
    "    def distance(self, q1_idx, q2_idx):\n",
    "        if isinstance(q2_idx, int):\n",
    "            if q1_idx == q2_idx:\n",
    "                return 0.\n",
    "            if q1_idx == -1 or q2_idx == -1:\n",
    "                if q2_idx == -1:\n",
    "                    q1_idx, q2_idx = q2_idx, q1_idx\n",
    "                if q2_idx not in self._cached_dist_to_candidate:\n",
    "                    self._cached_dist_to_candidate[q2_idx] = self.real_distance(\n",
    "                        self._candidate, self.storage[q2_idx]\n",
    "                    )\n",
    "                return self._cached_dist_to_candidate[q2_idx]\n",
    "            return self.real_distance(self.storage[q1_idx], self.storage[q2_idx])\n",
    "        if q1_idx == -1:\n",
    "            q = self._candidate\n",
    "        else:\n",
    "            q = self.storage[q1_idx]\n",
    "        return self.real_distance(q, self.storage[q2_idx])\n",
    "\n",
    "    def new_candidate(self):\n",
    "        found = False\n",
    "        while not found:\n",
    "            q = self.system.random_config()\n",
    "            found = not self.system.is_colliding(q)\n",
    "        self._candidate = q\n",
    "        self._cached_dist_to_candidate = {}\n",
    "        return q\n",
    "\n",
    "    def solve(self, qi, validate):\n",
    "        # Initiate datastructures\n",
    "        self.storage = Storage(self.node_max, self.system.nq)\n",
    "        self.pathtree = PathTree(self.storage)\n",
    "        self.NNtree = self.datastructure_cls(\n",
    "            self.distance,\n",
    "            **self.datastructure_kwargs\n",
    "        )\n",
    "        qi_idx = self.storage.add_point(qi)\n",
    "        self.NNtree.add_point(qi_idx)\n",
    "        self.it_trace = []\n",
    "\n",
    "        found = False\n",
    "        iterator = range(self.iter_max)\n",
    "        for i in iterator:\n",
    "            # New candidate\n",
    "            q_new = self.new_candidate()\n",
    "            q_new_idx = -1\n",
    "            # Find its closer neighboor to q_new\n",
    "            q_near_idx, d = self.NNtree.nearest_neighbour(q_new_idx)\n",
    "            # Steer from it toward the new checking for colision\n",
    "            success, q_prox = self.system.is_free_path(\n",
    "                self.storage.data[q_near_idx], q_new,\n",
    "                max_length=self.steer_max_length, delta=self.steer_delta\n",
    "            )\n",
    "\n",
    "            if not success:\n",
    "                self.it_trace.append(0)\n",
    "                continue\n",
    "            self.it_trace.append(1)\n",
    "            # Add the points in data structures\n",
    "            q_prox_idx = self.storage.add_point(q_prox)\n",
    "            self.NNtree.add_point(q_prox_idx)\n",
    "            self.pathtree.update_link(q_prox_idx, q_near_idx)\n",
    "            self.system.display(self.storage[q_near_idx], self.storage[q_prox_idx])\n",
    "\n",
    "            # Test if it reach the goal\n",
    "            if validate(q_prox):\n",
    "                q_g_idx = self.storage.add_point(q_prox)\n",
    "                self.NNtree.add_point(q_g_idx)\n",
    "                self.pathtree.update_link(q_g_idx, q_prox_idx)\n",
    "                found = True\n",
    "            if self.storage.is_full or found:\n",
    "                iterator.close()\n",
    "                break\n",
    "        self.iter_done = i + 1\n",
    "        self.found = found\n",
    "        return found\n",
    "\n",
    "    def get_path(self, q_g):\n",
    "        assert self.found\n",
    "        path = self.pathtree.get_path()\n",
    "        return np.concatenate([path, q_g[None, :]])\n"
   ]
  },
  {
   "cell_type": "code",
   "execution_count": null,
   "id": "676b991b-32d1-4e2f-8dd9-ed85252e180c",
   "metadata": {},
   "outputs": [],
   "source": [
    "q_i = np.array([-1., -1.5, 2.1, -.5, -.5, 0])\n",
    "q_g = np.array([-1., -1.5, 2.1, -.5, -.5, 0])\n",
    "system = System()\n",
    "rrt = RRT(system)\n",
    "eps = 0.1"
   ]
  },
  {
   "cell_type": "code",
   "execution_count": null,
   "id": "de20f3cc-6df3-4e5c-ab5b-e183616d4a2e",
   "metadata": {},
   "outputs": [],
   "source": [
    "validation = lambda key: system.metric(key, q_g) < eps\n",
    "\n",
    "rrt.solve(q_i, validation)"
   ]
  },
  {
   "cell_type": "markdown",
   "id": "00c358fa-97a0-4332-94b6-f1b4a9237329",
   "metadata": {},
   "source": [
    "### Implement bi RRT"
   ]
  },
  {
   "cell_type": "code",
   "execution_count": null,
   "id": "e2d4e18b-4ecd-495c-8477-d118cd7f1c1c",
   "metadata": {},
   "outputs": [],
   "source": []
  }
 ],
 "metadata": {
  "kernelspec": {
   "display_name": "Python 3 (ipykernel)",
   "language": "python",
   "name": "python3"
  },
  "language_info": {
   "codemirror_mode": {
    "name": "ipython",
    "version": 3
   },
   "file_extension": ".py",
   "mimetype": "text/x-python",
   "name": "python",
   "nbconvert_exporter": "python",
   "pygments_lexer": "ipython3",
   "version": "3.9.15"
  }
 },
 "nbformat": 4,
 "nbformat_minor": 5
}
